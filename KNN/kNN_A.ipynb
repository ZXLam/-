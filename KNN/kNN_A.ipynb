{
 "cells": [
  {
   "cell_type": "code",
   "execution_count": 1,
   "metadata": {},
   "outputs": [],
   "source": [
    "from sklearn import datasets  # 自带数据集\n",
    "from sklearn.model_selection import train_test_split, cross_val_score  # 划分数据 交叉验证\n",
    "from sklearn.neighbors import KNeighborsClassifier  # 一个简单的模型，只有K一个参数，类似K-means\n",
    "import matplotlib.pyplot as plt"
   ]
  },
  {
   "cell_type": "markdown",
   "metadata": {},
   "source": [
    "## 1. 读取数据"
   ]
  },
  {
   "cell_type": "code",
   "execution_count": 5,
   "metadata": {},
   "outputs": [
    {
     "name": "stdout",
     "output_type": "stream",
     "text": [
      "[0 0 0 0 0 0 0 0 0 0 0 0 0 0 0 0 0 0 0 0 0 0 0 0 0 0 0 0 0 0 0 0 0 0 0 0 0\n",
      " 0 0 0 0 0 0 0 0 0 0 0 0 0 1 1 1 1 1 1 1 1 1 1 1 1 1 1 1 1 1 1 1 1 1 1 1 1\n",
      " 1 1 1 1 1 1 1 1 1 1 1 1 1 1 1 1 1 1 1 1 1 1 1 1 1 1 2 2 2 2 2 2 2 2 2 2 2\n",
      " 2 2 2 2 2 2 2 2 2 2 2 2 2 2 2 2 2 2 2 2 2 2 2 2 2 2 2 2 2 2 2 2 2 2 2 2 2\n",
      " 2 2]\n"
     ]
    }
   ],
   "source": [
    "iris = datasets.load_iris()  # 加载sklearn自带的数据集\n",
    "X = iris.data  # 这是数据\n",
    "y = iris.target  # 这是每个数据所对应的标签\n",
    "print(y)"
   ]
  },
  {
   "cell_type": "markdown",
   "metadata": {},
   "source": [
    "## 2. 数据归一化"
   ]
  },
  {
   "cell_type": "code",
   "execution_count": 3,
   "metadata": {},
   "outputs": [
    {
     "name": "stdout",
     "output_type": "stream",
     "text": [
      "[[0.22222222 0.625      0.06779661 0.04166667]\n",
      " [0.16666667 0.41666667 0.06779661 0.04166667]\n",
      " [0.11111111 0.5        0.05084746 0.04166667]\n",
      " [0.08333333 0.45833333 0.08474576 0.04166667]\n",
      " [0.19444444 0.66666667 0.06779661 0.04166667]\n",
      " [0.30555556 0.79166667 0.11864407 0.125     ]\n",
      " [0.08333333 0.58333333 0.06779661 0.08333333]\n",
      " [0.19444444 0.58333333 0.08474576 0.04166667]\n",
      " [0.02777778 0.375      0.06779661 0.04166667]\n",
      " [0.16666667 0.45833333 0.08474576 0.        ]\n",
      " [0.30555556 0.70833333 0.08474576 0.04166667]\n",
      " [0.13888889 0.58333333 0.10169492 0.04166667]\n",
      " [0.13888889 0.41666667 0.06779661 0.        ]\n",
      " [0.         0.41666667 0.01694915 0.        ]\n",
      " [0.41666667 0.83333333 0.03389831 0.04166667]\n",
      " [0.38888889 1.         0.08474576 0.125     ]\n",
      " [0.30555556 0.79166667 0.05084746 0.125     ]\n",
      " [0.22222222 0.625      0.06779661 0.08333333]\n",
      " [0.38888889 0.75       0.11864407 0.08333333]\n",
      " [0.22222222 0.75       0.08474576 0.08333333]\n",
      " [0.30555556 0.58333333 0.11864407 0.04166667]\n",
      " [0.22222222 0.70833333 0.08474576 0.125     ]\n",
      " [0.08333333 0.66666667 0.         0.04166667]\n",
      " [0.22222222 0.54166667 0.11864407 0.16666667]\n",
      " [0.13888889 0.58333333 0.15254237 0.04166667]\n",
      " [0.19444444 0.41666667 0.10169492 0.04166667]\n",
      " [0.19444444 0.58333333 0.10169492 0.125     ]\n",
      " [0.25       0.625      0.08474576 0.04166667]\n",
      " [0.25       0.58333333 0.06779661 0.04166667]\n",
      " [0.11111111 0.5        0.10169492 0.04166667]\n",
      " [0.13888889 0.45833333 0.10169492 0.04166667]\n",
      " [0.30555556 0.58333333 0.08474576 0.125     ]\n",
      " [0.25       0.875      0.08474576 0.        ]\n",
      " [0.33333333 0.91666667 0.06779661 0.04166667]\n",
      " [0.16666667 0.45833333 0.08474576 0.04166667]\n",
      " [0.19444444 0.5        0.03389831 0.04166667]\n",
      " [0.33333333 0.625      0.05084746 0.04166667]\n",
      " [0.16666667 0.66666667 0.06779661 0.        ]\n",
      " [0.02777778 0.41666667 0.05084746 0.04166667]\n",
      " [0.22222222 0.58333333 0.08474576 0.04166667]\n",
      " [0.19444444 0.625      0.05084746 0.08333333]\n",
      " [0.05555556 0.125      0.05084746 0.08333333]\n",
      " [0.02777778 0.5        0.05084746 0.04166667]\n",
      " [0.19444444 0.625      0.10169492 0.20833333]\n",
      " [0.22222222 0.75       0.15254237 0.125     ]\n",
      " [0.13888889 0.41666667 0.06779661 0.08333333]\n",
      " [0.22222222 0.75       0.10169492 0.04166667]\n",
      " [0.08333333 0.5        0.06779661 0.04166667]\n",
      " [0.27777778 0.70833333 0.08474576 0.04166667]\n",
      " [0.19444444 0.54166667 0.06779661 0.04166667]\n",
      " [0.75       0.5        0.62711864 0.54166667]\n",
      " [0.58333333 0.5        0.59322034 0.58333333]\n",
      " [0.72222222 0.45833333 0.66101695 0.58333333]\n",
      " [0.33333333 0.125      0.50847458 0.5       ]\n",
      " [0.61111111 0.33333333 0.61016949 0.58333333]\n",
      " [0.38888889 0.33333333 0.59322034 0.5       ]\n",
      " [0.55555556 0.54166667 0.62711864 0.625     ]\n",
      " [0.16666667 0.16666667 0.38983051 0.375     ]\n",
      " [0.63888889 0.375      0.61016949 0.5       ]\n",
      " [0.25       0.29166667 0.49152542 0.54166667]\n",
      " [0.19444444 0.         0.42372881 0.375     ]\n",
      " [0.44444444 0.41666667 0.54237288 0.58333333]\n",
      " [0.47222222 0.08333333 0.50847458 0.375     ]\n",
      " [0.5        0.375      0.62711864 0.54166667]\n",
      " [0.36111111 0.375      0.44067797 0.5       ]\n",
      " [0.66666667 0.45833333 0.57627119 0.54166667]\n",
      " [0.36111111 0.41666667 0.59322034 0.58333333]\n",
      " [0.41666667 0.29166667 0.52542373 0.375     ]\n",
      " [0.52777778 0.08333333 0.59322034 0.58333333]\n",
      " [0.36111111 0.20833333 0.49152542 0.41666667]\n",
      " [0.44444444 0.5        0.6440678  0.70833333]\n",
      " [0.5        0.33333333 0.50847458 0.5       ]\n",
      " [0.55555556 0.20833333 0.66101695 0.58333333]\n",
      " [0.5        0.33333333 0.62711864 0.45833333]\n",
      " [0.58333333 0.375      0.55932203 0.5       ]\n",
      " [0.63888889 0.41666667 0.57627119 0.54166667]\n",
      " [0.69444444 0.33333333 0.6440678  0.54166667]\n",
      " [0.66666667 0.41666667 0.6779661  0.66666667]\n",
      " [0.47222222 0.375      0.59322034 0.58333333]\n",
      " [0.38888889 0.25       0.42372881 0.375     ]\n",
      " [0.33333333 0.16666667 0.47457627 0.41666667]\n",
      " [0.33333333 0.16666667 0.45762712 0.375     ]\n",
      " [0.41666667 0.29166667 0.49152542 0.45833333]\n",
      " [0.47222222 0.29166667 0.69491525 0.625     ]\n",
      " [0.30555556 0.41666667 0.59322034 0.58333333]\n",
      " [0.47222222 0.58333333 0.59322034 0.625     ]\n",
      " [0.66666667 0.45833333 0.62711864 0.58333333]\n",
      " [0.55555556 0.125      0.57627119 0.5       ]\n",
      " [0.36111111 0.41666667 0.52542373 0.5       ]\n",
      " [0.33333333 0.20833333 0.50847458 0.5       ]\n",
      " [0.33333333 0.25       0.57627119 0.45833333]\n",
      " [0.5        0.41666667 0.61016949 0.54166667]\n",
      " [0.41666667 0.25       0.50847458 0.45833333]\n",
      " [0.19444444 0.125      0.38983051 0.375     ]\n",
      " [0.36111111 0.29166667 0.54237288 0.5       ]\n",
      " [0.38888889 0.41666667 0.54237288 0.45833333]\n",
      " [0.38888889 0.375      0.54237288 0.5       ]\n",
      " [0.52777778 0.375      0.55932203 0.5       ]\n",
      " [0.22222222 0.20833333 0.33898305 0.41666667]\n",
      " [0.38888889 0.33333333 0.52542373 0.5       ]\n",
      " [0.55555556 0.54166667 0.84745763 1.        ]\n",
      " [0.41666667 0.29166667 0.69491525 0.75      ]\n",
      " [0.77777778 0.41666667 0.83050847 0.83333333]\n",
      " [0.55555556 0.375      0.77966102 0.70833333]\n",
      " [0.61111111 0.41666667 0.81355932 0.875     ]\n",
      " [0.91666667 0.41666667 0.94915254 0.83333333]\n",
      " [0.16666667 0.20833333 0.59322034 0.66666667]\n",
      " [0.83333333 0.375      0.89830508 0.70833333]\n",
      " [0.66666667 0.20833333 0.81355932 0.70833333]\n",
      " [0.80555556 0.66666667 0.86440678 1.        ]\n",
      " [0.61111111 0.5        0.69491525 0.79166667]\n",
      " [0.58333333 0.29166667 0.72881356 0.75      ]\n",
      " [0.69444444 0.41666667 0.76271186 0.83333333]\n",
      " [0.38888889 0.20833333 0.6779661  0.79166667]\n",
      " [0.41666667 0.33333333 0.69491525 0.95833333]\n",
      " [0.58333333 0.5        0.72881356 0.91666667]\n",
      " [0.61111111 0.41666667 0.76271186 0.70833333]\n",
      " [0.94444444 0.75       0.96610169 0.875     ]\n",
      " [0.94444444 0.25       1.         0.91666667]\n",
      " [0.47222222 0.08333333 0.6779661  0.58333333]\n",
      " [0.72222222 0.5        0.79661017 0.91666667]\n",
      " [0.36111111 0.33333333 0.66101695 0.79166667]\n",
      " [0.94444444 0.33333333 0.96610169 0.79166667]\n",
      " [0.55555556 0.29166667 0.66101695 0.70833333]\n",
      " [0.66666667 0.54166667 0.79661017 0.83333333]\n",
      " [0.80555556 0.5        0.84745763 0.70833333]\n",
      " [0.52777778 0.33333333 0.6440678  0.70833333]\n",
      " [0.5        0.41666667 0.66101695 0.70833333]\n",
      " [0.58333333 0.33333333 0.77966102 0.83333333]\n",
      " [0.80555556 0.41666667 0.81355932 0.625     ]\n",
      " [0.86111111 0.33333333 0.86440678 0.75      ]\n",
      " [1.         0.75       0.91525424 0.79166667]\n",
      " [0.58333333 0.33333333 0.77966102 0.875     ]\n",
      " [0.55555556 0.33333333 0.69491525 0.58333333]\n",
      " [0.5        0.25       0.77966102 0.54166667]\n",
      " [0.94444444 0.41666667 0.86440678 0.91666667]\n",
      " [0.55555556 0.58333333 0.77966102 0.95833333]\n",
      " [0.58333333 0.45833333 0.76271186 0.70833333]\n",
      " [0.47222222 0.41666667 0.6440678  0.70833333]\n",
      " [0.72222222 0.45833333 0.74576271 0.83333333]\n",
      " [0.66666667 0.45833333 0.77966102 0.95833333]\n",
      " [0.72222222 0.45833333 0.69491525 0.91666667]\n",
      " [0.41666667 0.29166667 0.69491525 0.75      ]\n",
      " [0.69444444 0.5        0.83050847 0.91666667]\n",
      " [0.66666667 0.54166667 0.79661017 1.        ]\n",
      " [0.66666667 0.41666667 0.71186441 0.91666667]\n",
      " [0.55555556 0.20833333 0.6779661  0.75      ]\n",
      " [0.61111111 0.41666667 0.71186441 0.79166667]\n",
      " [0.52777778 0.58333333 0.74576271 0.91666667]\n",
      " [0.44444444 0.41666667 0.69491525 0.70833333]]\n"
     ]
    }
   ],
   "source": [
    "X= (X-X.min(axis=0)) / (X.max(axis=0)-X.min(axis=0))\n",
    "print(X)"
   ]
  },
  {
   "cell_type": "markdown",
   "metadata": {},
   "source": [
    "## 3. 按照test=0.3划分数据"
   ]
  },
  {
   "cell_type": "code",
   "execution_count": 6,
   "metadata": {},
   "outputs": [
    {
     "name": "stdout",
     "output_type": "stream",
     "text": [
      "[1 0 0 1 2 0 0 1 1 2 0 1 0 2 1 2 0 1 0 1 2 1 0 2 2 1 0 1 0 1 2 1 1 1 0 1 0\n",
      " 2 0 0 1 2 1 1 2 2 0 2 1 2 2 0 0 1 0 1 2 1 1 2 0 0 2 1 0 0 0 1 1 0 1 2 1 1\n",
      " 0 2 0 1 0 0 1 2 2 1 0 2 2 0 1 0 0 1 0 2 2 2 1 2 1 1 0 0 0 2 1]\n"
     ]
    }
   ],
   "source": [
    "train_X, test_X, train_y, test_y = train_test_split(X, y, test_size=0.3) \n",
    "print(train_y)"
   ]
  },
  {
   "cell_type": "markdown",
   "metadata": {},
   "source": [
    "## 3. 交叉验证"
   ]
  },
  {
   "cell_type": "code",
   "execution_count": 7,
   "metadata": {},
   "outputs": [],
   "source": [
    "# 设置k的取值范围以及训练得分保存的列表\n",
    "k_range = range(1, 31)\n",
    "cv_scores = []  \n",
    "\n",
    "# k次10折交叉验证得分，标准为准确率'accuracy'\n",
    "# 得分存入得分列表\n",
    "for n in k_range:\n",
    "    knn = KNeighborsClassifier(n)  \n",
    "    scores = cross_val_score(knn, train_X, train_y, cv=10,\n",
    "                             scoring='accuracy')  \n",
    "    cv_scores.append(scores.mean())  "
   ]
  },
  {
   "cell_type": "code",
   "execution_count": 8,
   "metadata": {},
   "outputs": [
    {
     "name": "stdout",
     "output_type": "stream",
     "text": [
      "[0.9618181818181817, 0.9618181818181817, 0.99, 0.9618181818181817, 0.9709090909090909, 0.9709090909090909, 0.9709090909090909, 0.9709090909090909, 0.9809090909090908, 0.9709090909090909, 0.9809090909090908, 0.9618181818181817, 0.9709090909090909, 0.9627272727272727, 0.9709090909090909, 0.9618181818181817, 0.9618181818181817, 0.9627272727272727, 0.9809090909090908, 0.9718181818181819, 0.9718181818181819, 0.9436363636363637, 0.9627272727272727, 0.9436363636363637, 0.9527272727272728, 0.9436363636363637, 0.9436363636363637, 0.9436363636363637, 0.9436363636363637, 0.9436363636363637]\n"
     ]
    }
   ],
   "source": [
    "print(cv_scores)"
   ]
  },
  {
   "cell_type": "markdown",
   "metadata": {},
   "source": [
    "## 4. 画图"
   ]
  },
  {
   "cell_type": "code",
   "execution_count": 9,
   "metadata": {},
   "outputs": [
    {
     "data": {
      "image/png": "[encoded data removed]",
      "text/plain": [
       "<Figure size 432x288 with 1 Axes>"
      ]
     },
     "metadata": {
      "needs_background": "light"
     },
     "output_type": "display_data"
    }
   ],
   "source": [
    "plt.plot(k_range, cv_scores)\n",
    "plt.xlabel('K')\n",
    "plt.ylabel('Accuracy')  # 通过图像选择最好的参数\n",
    "plt.show()"
   ]
  },
  {
   "cell_type": "markdown",
   "metadata": {},
   "source": [
    "## 5. 测试数据"
   ]
  },
  {
   "cell_type": "code",
   "execution_count": 10,
   "metadata": {},
   "outputs": [
    {
     "name": "stdout",
     "output_type": "stream",
     "text": [
      "[2 0 0 0 2 1 1 2 0 1 2 2 1 0 2 0 1 1 0 2 2 0 1 0 1 0 0 2 1 2 1 1 1 0 1 0 2\n",
      " 2 2 2 2 2 2 2 2]\n",
      "[2 0 0 0 2 1 1 2 0 1 2 2 1 0 2 0 1 2 0 2 2 0 1 0 1 0 0 2 1 2 1 2 2 0 1 0 1\n",
      " 2 2 2 2 2 2 2 2]\n",
      "0.9111111111111111\n"
     ]
    }
   ],
   "source": [
    "best_knn = KNeighborsClassifier(n_neighbors=3)  \n",
    "best_knn.fit(train_X, train_y)  # 训练模型\n",
    "y_hat = best_knn.predict(test_X)\n",
    "print(y_hat)\n",
    "print(test_y)\n",
    "\n",
    "count = 0\n",
    "for i in range(len(y_hat)):\n",
    "    if y_hat[i] == test_y[i]:\n",
    "        count += 1\n",
    "print(count/len(y_hat))"
   ]
  },
  {
   "cell_type": "code",
   "execution_count": 12,
   "metadata": {},
   "outputs": [],
   "source": [
    "from sklearn.neighbors import KNeighborsClassifier\n",
    "from sklearn import datasets\n",
    "from sklearn.model_selection import GridSearchCV\n",
    "from sklearn.model_selection import train_test_split"
   ]
  },
  {
   "cell_type": "markdown",
   "metadata": {},
   "source": [
    "## 1. 读取数据"
   ]
  },
  {
   "cell_type": "code",
   "execution_count": 13,
   "metadata": {},
   "outputs": [],
   "source": [
    "iris = datasets.load_iris()\n",
    "data = iris.data\n",
    "label = iris.target"
   ]
  },
  {
   "cell_type": "markdown",
   "metadata": {},
   "source": [
    "## 2. 数据归一化"
   ]
  },
  {
   "cell_type": "code",
   "execution_count": 14,
   "metadata": {},
   "outputs": [],
   "source": [
    "data= (data-data.min(axis=0)) / (data.max(axis=0)-data.min(axis=0))"
   ]
  },
  {
   "cell_type": "markdown",
   "metadata": {},
   "source": [
    "## 3. 数据集划分"
   ]
  },
  {
   "cell_type": "code",
   "execution_count": 15,
   "metadata": {},
   "outputs": [],
   "source": [
    "X_train,X_test,y_train,y_test = train_test_split(data,label,test_size=0.3)\n",
    "knn_clf = KNeighborsClassifier()"
   ]
  },
  {
   "cell_type": "markdown",
   "metadata": {},
   "source": [
    "## 4. 网格搜索参数设置"
   ]
  },
  {
   "cell_type": "code",
   "execution_count": 17,
   "metadata": {},
   "outputs": [],
   "source": [
    "param_grid = [\n",
    "    {\n",
    "         'weights':['uniform'],\n",
    "         'n_neighbors':[i for i in range(1,31)]\n",
    "    },\n",
    "    {\n",
    "        'weights':['distance'],\n",
    "        'n_neighbors':[i for i in range(1,31)],\n",
    "        'p':[i for i in range(1,6)]\n",
    "    }\n",
    "]\n",
    "grid_search = GridSearchCV(knn_clf,param_grid,n_jobs=-1,verbose=2)"
   ]
  },
  {
   "cell_type": "markdown",
   "metadata": {},
   "source": [
    "### 5. 开始网格搜索"
   ]
  },
  {
   "cell_type": "code",
   "execution_count": 18,
   "metadata": {},
   "outputs": [
    {
     "name": "stderr",
     "output_type": "stream",
     "text": [
      "c:\\Anaconda3\\lib\\site-packages\\sklearn\\model_selection\\_split.py:1978: FutureWarning: The default value of cv will change from 3 to 5 in version 0.22. Specify it explicitly to silence this warning.\n",
      "  warnings.warn(CV_WARNING, FutureWarning)\n",
      "[Parallel(n_jobs=-1)]: Using backend LokyBackend with 12 concurrent workers.\n"
     ]
    },
    {
     "name": "stdout",
     "output_type": "stream",
     "text": [
      "Fitting 3 folds for each of 180 candidates, totalling 540 fits\n"
     ]
    },
    {
     "name": "stderr",
     "output_type": "stream",
     "text": [
      "[Parallel(n_jobs=-1)]: Done  17 tasks      | elapsed:    1.2s\n",
      "[Parallel(n_jobs=-1)]: Done 540 out of 540 | elapsed:    1.6s finished\n",
      "c:\\Anaconda3\\lib\\site-packages\\sklearn\\model_selection\\_search.py:813: DeprecationWarning: The default of the `iid` parameter will change from True to False in version 0.22 and will be removed in 0.24. This will change numeric results when test-set sizes are unequal.\n",
      "  DeprecationWarning)\n"
     ]
    },
    {
     "data": {
      "text/plain": [
       "GridSearchCV(cv='warn', error_score='raise-deprecating',\n",
       "             estimator=KNeighborsClassifier(algorithm='auto', leaf_size=30,\n",
       "                                            metric='minkowski',\n",
       "                                            metric_params=None, n_jobs=None,\n",
       "                                            n_neighbors=5, p=2,\n",
       "                                            weights='uniform'),\n",
       "             iid='warn', n_jobs=-1,\n",
       "             param_grid=[{'n_neighbors': [1, 2, 3, 4, 5, 6, 7, 8, 9, 10, 11, 12,\n",
       "                                          13, 14, 15, 16, 17, 18, 19, 20, 21,\n",
       "                                          22, 23, 24, 25, 26, 27, 28, 29, 30],\n",
       "                          'weights': ['uniform']},\n",
       "                         {'n_neighbors': [1, 2, 3, 4, 5, 6, 7, 8, 9, 10, 11, 12,\n",
       "                                          13, 14, 15, 16, 17, 18, 19, 20, 21,\n",
       "                                          22, 23, 24, 25, 26, 27, 28, 29, 30],\n",
       "                          'p': [1, 2, 3, 4, 5], 'weights': ['distance']}],\n",
       "             pre_dispatch='2*n_jobs', refit=True, return_train_score=False,\n",
       "             scoring=None, verbose=2)"
      ]
     },
     "execution_count": 18,
     "metadata": {},
     "output_type": "execute_result"
    }
   ],
   "source": [
    "grid_search.fit(X_train,y_train)"
   ]
  },
  {
   "cell_type": "markdown",
   "metadata": {},
   "source": [
    "## 6. 搜索结果"
   ]
  },
  {
   "cell_type": "code",
   "execution_count": 19,
   "metadata": {},
   "outputs": [
    {
     "data": {
      "text/plain": [
       "KNeighborsClassifier(algorithm='auto', leaf_size=30, metric='minkowski',\n",
       "                     metric_params=None, n_jobs=None, n_neighbors=12, p=2,\n",
       "                     weights='uniform')"
      ]
     },
     "execution_count": 19,
     "metadata": {},
     "output_type": "execute_result"
    }
   ],
   "source": [
    "grid_search.best_estimator_"
   ]
  },
  {
   "cell_type": "code",
   "execution_count": 20,
   "metadata": {},
   "outputs": [
    {
     "data": {
      "text/plain": [
       "0.9619047619047619"
      ]
     },
     "execution_count": 20,
     "metadata": {},
     "output_type": "execute_result"
    }
   ],
   "source": [
    "grid_search.best_score_"
   ]
  },
  {
   "cell_type": "code",
   "execution_count": 21,
   "metadata": {},
   "outputs": [
    {
     "data": {
      "text/plain": [
       "{'n_neighbors': 12, 'weights': 'uniform'}"
      ]
     },
     "execution_count": 21,
     "metadata": {},
     "output_type": "execute_result"
    }
   ],
   "source": [
    "grid_search.best_params_"
   ]
  },
  {
   "cell_type": "markdown",
   "metadata": {},
   "source": [
    "## 7. 测试数据"
   ]
  },
  {
   "cell_type": "code",
   "execution_count": 22,
   "metadata": {},
   "outputs": [
    {
     "data": {
      "text/plain": [
       "KNeighborsClassifier(algorithm='auto', leaf_size=30, metric='minkowski',\n",
       "                     metric_params=None, n_jobs=None, n_neighbors=12, p=2,\n",
       "                     weights='uniform')"
      ]
     },
     "execution_count": 22,
     "metadata": {},
     "output_type": "execute_result"
    }
   ],
   "source": [
    "model = KNeighborsClassifier(n_neighbors=12, weights='uniform')\n",
    "model.fit(X_train, y_train)"
   ]
  },
  {
   "cell_type": "code",
   "execution_count": 26,
   "metadata": {},
   "outputs": [
    {
     "name": "stdout",
     "output_type": "stream",
     "text": [
      "[2 1 1 2 2 1 1 2 1 2 1 1 0 0 1 1 0 2 1 0 1 0 1 0 2 0 2 1 2 0 2 0 2 1 0 1 2\n",
      " 1 2 2 2 2 1 2 1]\n",
      "[2 1 1 2 2 1 2 2 1 2 1 1 0 0 1 1 0 2 1 0 1 0 1 0 2 0 2 2 2 0 2 0 2 1 0 1 2\n",
      " 1 2 2 2 2 2 2 1]\n"
     ]
    }
   ],
   "source": [
    "y_hat1 = model.predict(X_test)\n",
    "print(y_hat1)\n",
    "print(y_test)"
   ]
  },
  {
   "cell_type": "code",
   "execution_count": 27,
   "metadata": {},
   "outputs": [
    {
     "name": "stdout",
     "output_type": "stream",
     "text": [
      "0.9333333333333333\n"
     ]
    }
   ],
   "source": [
    "count = 0\n",
    "for i in range(len(y_hat1)):\n",
    "    if y_hat1[i] == y_test[i]:\n",
    "        count += 1\n",
    "print(count/len(y_hat1))"
   ]
  },
  {
   "cell_type": "code",
   "execution_count": null,
   "metadata": {},
   "outputs": [],
   "source": []
  }
 ],
 "metadata": {
  "kernelspec": {
   "display_name": "Python 3",
   "language": "python",
   "name": "python3"
  },
  "language_info": {
   "codemirror_mode": {
    "name": "ipython",
    "version": 3
   },
   "file_extension": ".py",
   "mimetype": "text/x-python",
   "name": "python",
   "nbconvert_exporter": "python",
   "pygments_lexer": "ipython3",
   "version": "3.7.3"
  }
 },
 "nbformat": 4,
 "nbformat_minor": 5
}
